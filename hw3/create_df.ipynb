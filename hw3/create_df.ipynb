{
 "cells": [
  {
   "cell_type": "code",
   "execution_count": 1,
   "id": "1afa3b07",
   "metadata": {},
   "outputs": [],
   "source": [
    "import pandas as pd\n",
    "import numpy as np\n",
    "\n",
    "from sklearn.datasets import make_regression\n",
    "import matplotlib.pyplot as plt"
   ]
  },
  {
   "cell_type": "code",
   "execution_count": 2,
   "id": "280b297f",
   "metadata": {},
   "outputs": [],
   "source": [
    "X, y = make_regression(n_samples=2000, n_features=4, noise=0.2, random_state=42)\n"
   ]
  },
  {
   "cell_type": "code",
   "execution_count": 3,
   "id": "ed2dcdbd",
   "metadata": {},
   "outputs": [
    {
     "data": {
      "image/png": "[encoded data removed]",
      "text/plain": [
       "<Figure size 432x288 with 1 Axes>"
      ]
     },
     "metadata": {
      "needs_background": "light"
     },
     "output_type": "display_data"
    }
   ],
   "source": [
    "# plot regression dataset\n",
    "plt.scatter(X[:, 1], y)\n",
    "plt.show()"
   ]
  },
  {
   "cell_type": "code",
   "execution_count": 4,
   "id": "5cd555da",
   "metadata": {},
   "outputs": [],
   "source": [
    "from sklearn.model_selection import train_test_split"
   ]
  },
  {
   "cell_type": "code",
   "execution_count": 5,
   "id": "17c152b2",
   "metadata": {},
   "outputs": [],
   "source": [
    "X_train, X_test, y_train, y_test = train_test_split(X, y, test_size=0.2, random_state=42)"
   ]
  },
  {
   "cell_type": "code",
   "execution_count": 6,
   "id": "46f5b0c4",
   "metadata": {},
   "outputs": [],
   "source": [
    "from sklearn.linear_model import LinearRegression"
   ]
  },
  {
   "cell_type": "code",
   "execution_count": 7,
   "id": "0052539b",
   "metadata": {},
   "outputs": [],
   "source": [
    "lr_model = LinearRegression(n_jobs=-1)\n",
    "\n",
    "lr_model.fit(X_train, y_train)\n",
    "\n",
    "pred = lr_model.predict(X_test)"
   ]
  },
  {
   "cell_type": "code",
   "execution_count": 13,
   "id": "3ab69e3f",
   "metadata": {},
   "outputs": [],
   "source": [
    "from sklearn.metrics import mean_absolute_error, mean_squared_error, r2_score"
   ]
  },
  {
   "cell_type": "code",
   "execution_count": 14,
   "id": "293e5df7",
   "metadata": {},
   "outputs": [
    {
     "name": "stdout",
     "output_type": "stream",
     "text": [
      "MAE: 0.1570, MSE: 0.0372\n"
     ]
    }
   ],
   "source": [
    "mae = mean_absolute_error(y_test, pred)\n",
    "mse = mean_squared_error(y_test, pred)\n",
    "r2 = r2_score(y_test, pred)\n",
    "\n",
    "print(f\"MAE: {mae:.4f}, MSE: {mse:.4f}\" )"
   ]
  },
  {
   "cell_type": "code",
   "execution_count": 11,
   "id": "0ba13128",
   "metadata": {},
   "outputs": [],
   "source": [
    "def r2_custom(y_true, y_pred):\n",
    "    return 1 - sum((y_true - y_pred)**2) / sum((y_true - np.mean(y_true))**2)"
   ]
  },
  {
   "cell_type": "code",
   "execution_count": 12,
   "id": "85647ac7",
   "metadata": {},
   "outputs": [
    {
     "data": {
      "text/plain": [
       "0.9999974706719243"
      ]
     },
     "execution_count": 12,
     "metadata": {},
     "output_type": "execute_result"
    }
   ],
   "source": [
    "r2_custom(y_test, pred)"
   ]
  },
  {
   "cell_type": "code",
   "execution_count": 16,
   "id": "42a3cbd5",
   "metadata": {},
   "outputs": [
    {
     "data": {
      "text/plain": [
       "0.9999974706719243"
      ]
     },
     "execution_count": 16,
     "metadata": {},
     "output_type": "execute_result"
    }
   ],
   "source": [
    "r2"
   ]
  },
  {
   "cell_type": "code",
   "execution_count": 86,
   "id": "aab1010e",
   "metadata": {},
   "outputs": [
    {
     "data": {
      "text/plain": [
       "((1600, 5), (400, 5))"
      ]
     },
     "execution_count": 86,
     "metadata": {},
     "output_type": "execute_result"
    }
   ],
   "source": [
    "df_train_x = pd.DataFrame(data=X_train, columns=['f1', 'f2', 'f3', 'f4'])\n",
    "df_train_y = pd.DataFrame(data=y_train, columns=['target'])\n",
    "df_train = pd.concat([df_train_x, df_train_y], axis=1)\n",
    "\n",
    "df_test_x = pd.DataFrame(data=X_test, columns=['f1', 'f2', 'f3', 'f4'])\n",
    "df_test_y = pd.DataFrame(data=y_test, columns=['target'])\n",
    "df_test = pd.concat([df_test_x, df_test_y], axis=1)\n",
    "\n",
    "df_train.shape, df_test.shape"
   ]
  },
  {
   "cell_type": "code",
   "execution_count": 88,
   "id": "3433167f",
   "metadata": {},
   "outputs": [],
   "source": [
    "df_train.to_csv(\"train.csv\", index=False)\n",
    "\n",
    "df_test.to_csv(\"test.csv\", index=False)"
   ]
  },
  {
   "cell_type": "code",
   "execution_count": 22,
   "id": "f7ed02a8",
   "metadata": {},
   "outputs": [
    {
     "data": {
      "text/plain": [
       "array([  -6.62107444,  -34.75811683,   56.89770119, -106.16350414,\n",
       "          2.96898721,   -2.12574633, -193.78264062,  -41.64030377,\n",
       "        247.13189346,  -63.69884936,  170.05641638,  -13.59269623,\n",
       "       -105.98921128, -108.58745609,  -86.15991306,  211.09642436,\n",
       "        -99.23751919, -129.58811451,  147.99125962,  153.1557781 ,\n",
       "        -33.95901642,  107.39258483,  -45.87066806,  -21.38627221,\n",
       "        189.06221016,  -62.48936258,  159.87986958,  165.89724763,\n",
       "        -55.43320745,    2.61805978,   94.62890199,   47.84931591,\n",
       "        -87.73310853,  155.49115109,  106.07911594, -164.69214258,\n",
       "        201.12910902,  -62.32382826,  181.52511449, -118.12128294,\n",
       "        -30.71176154,  -16.22177557, -136.17022704,   22.5093886 ,\n",
       "        280.37620046,  -17.69700872,   80.3290204 ,  -94.17452253,\n",
       "       -200.99462846,  -24.48973829,  -20.22787571,  166.29650586,\n",
       "        -82.34746912,  194.18465041, -296.60707772,   84.85367179,\n",
       "         83.16238919,  -19.16971446,   -6.20548822,   34.96427039,\n",
       "        -15.48868837,  -12.12065497,  -63.64528699,  -67.42338586,\n",
       "        150.538787  , -108.03421369,  -56.71316213,  -96.04152319,\n",
       "        -44.23766599,  -18.40705791,  -27.76153847, -243.81724278,\n",
       "         90.47594225,   47.535026  ,  -30.29980399, -161.9727765 ,\n",
       "         43.07988649,  -73.88403452,  -99.38763347,   71.5711149 ,\n",
       "         -7.7109322 ,   -0.49330234,   97.66500486,  -55.1190957 ,\n",
       "        -78.10654217,  101.16436056,  132.08571917,   66.18856497,\n",
       "        -12.26097801,  -16.30606046,  -46.38082965, -199.93134004,\n",
       "         -6.54902026, -118.92710876, -113.58733296, -117.08005887,\n",
       "         64.36251873, -164.39780538,   95.45353407,  -69.02836869,\n",
       "        -32.72816155,  153.35476901,   85.54545025,  165.33013669,\n",
       "       -136.13850488,  -55.34758263,   -5.61519681,    5.32850879,\n",
       "        -55.83765943,  -21.37093837,   42.72153117, -128.35911579,\n",
       "        -93.69548176,  -23.56556364,  102.83870478,  -89.79509527,\n",
       "       -154.85788117,   65.43971765,   46.83030741,   99.53584314,\n",
       "       -159.30917729,  -22.85685958,   22.48024518,   -9.65976073,\n",
       "         19.25092933,  -76.38703081,  136.46775051,   48.34447381,\n",
       "         53.07058744,    4.90791622, -198.06759402,  -88.18856902,\n",
       "        -69.35078739, -168.70257546,   75.42972096,  -96.17246095,\n",
       "        118.90377651,   93.00529142,   57.37563241,  -75.06054652,\n",
       "       -134.39826819,  -16.47297251,  114.30709611,  -11.850705  ,\n",
       "        -89.41415002,   30.01146851,  126.12485075,  335.48053673,\n",
       "         41.48867286,   67.24039955,  -45.01103536,   51.13185269,\n",
       "        -77.47558811, -231.62502362,  128.11234991, -354.70479613,\n",
       "         36.52233564,  145.29551917,  -42.7860729 , -168.43322026,\n",
       "        -55.02087182,   28.38778499,  201.48468939,  186.40776948,\n",
       "         83.84021221, -263.95324619,   39.90765267,   25.40227272,\n",
       "       -129.3330069 , -180.36376195,  111.32553385,   83.85475647,\n",
       "       -117.07470344,  113.53083425,  -18.1464593 ,   26.63209734,\n",
       "        -60.12458418,  232.97578023, -125.3162037 ,  109.37590671,\n",
       "        -47.32421517, -110.88792937,  -52.12791113,  -89.28231066,\n",
       "       -135.24249334, -160.84787872,  -48.46895399,   33.80719582,\n",
       "         86.05993061,  272.96051527,   31.73328332,  -38.19290658,\n",
       "       -180.42763451,  190.75069884, -128.79792207,  205.72944303,\n",
       "       -201.77739042,  147.65624734, -255.97814869,  -48.44036707,\n",
       "         91.1830918 , -144.61319092,   77.57926692,  173.85967274,\n",
       "        -58.50912252,  274.26954863,  314.49879935,  -64.02484559,\n",
       "       -106.64909199,   -5.87463522,   -6.42491991,  -43.24483945,\n",
       "       -179.28019935,  -82.64716291, -122.44637641,  122.20811425,\n",
       "         -6.91119866,  -18.27881258, -109.52687424,  -52.42694886,\n",
       "        -27.59879071,  -25.94762289, -139.75340317,  -75.28459935,\n",
       "         -4.59314778,   34.07932805, -186.3471957 ,  -35.0350812 ,\n",
       "        221.32005349, -115.51316499,  -35.66750665,  144.65810484,\n",
       "        242.50733625, -116.64534693,   75.23324217,  -38.72375722,\n",
       "        -98.52645716,   77.69770788,   71.57937071,  -73.97612208,\n",
       "       -245.03708095, -142.04391194,   86.63211339,   43.55263475,\n",
       "       -118.72833413, -201.76280949,   92.83387617,   71.48435671,\n",
       "         76.17355564,   75.52683193,   58.79359463,   61.79545392,\n",
       "        202.29665617,   21.93269912,  -68.08766872, -139.90603503,\n",
       "         79.51362717,  117.26010676,  118.38861664,   -5.21880585,\n",
       "         93.43390017, -350.15357907,  101.8786476 ,   48.13269774,\n",
       "         80.45241655,  215.00372532,   14.28650476,  133.52207816,\n",
       "        147.48628179,   -3.5461954 , -135.76176711, -119.91501545,\n",
       "        190.8896407 , -119.13991336, -251.62167127, -136.56964256,\n",
       "        124.43962645,   84.20492481,  -28.95860797,    6.99768791,\n",
       "         83.7005036 ,  158.88527759,  -77.87555046, -325.3180846 ,\n",
       "        -19.45134247, -132.54741214,   83.75101595,  262.59725641,\n",
       "         77.10843756,   -5.77025794,   13.58316388,   62.62595613,\n",
       "        102.42032985,  160.03416394,  -89.16536282,   59.98229915,\n",
       "        -27.86462334,  232.48395418, -127.53148907,  111.2659774 ,\n",
       "       -163.86418822,   40.5954065 ,  -46.52886832,  -82.94769187,\n",
       "         57.18576933,  -97.47187723,  108.30997218,  -50.25802444,\n",
       "        -39.06196482,  -75.43853907,  154.63248312,  -17.66074836,\n",
       "        -16.64872117,  238.99924254,  189.34596341,   13.34213013,\n",
       "        101.88701813,   47.63248803,  110.28652286,   63.18624605,\n",
       "         -8.77372109,  214.76231568,  -50.9592703 ,   43.86554368,\n",
       "       -150.38258345, -104.12731192,   14.63461353,  -86.82955303,\n",
       "       -104.88422217,  -94.99877544, -251.07538741,   54.61206221,\n",
       "       -243.18776453,   88.36168378,  -52.09471443,   66.15840445,\n",
       "        -27.25152294,  218.49480161,  -63.76572052,  -60.03808158,\n",
       "       -172.65893961,  -87.56129607,  -84.34370951,  -23.377662  ,\n",
       "         99.92590991,   18.6882331 ,  -22.17144707,  -15.87067998,\n",
       "        -16.75830647,   79.63873191,  -50.62463578,  -55.10917128,\n",
       "        107.07605747,  100.29995938,  128.54319268,   30.50727302,\n",
       "        169.48525539,   82.03837194,    6.34732821, -144.57960605,\n",
       "        229.18422184, -101.06798777,  -20.57846997,   49.24262878,\n",
       "       -141.83744542, -165.5297817 ,   34.69678586, -199.28723774,\n",
       "       -302.60320782,  109.39926071,   14.13441132,  -64.9171895 ,\n",
       "          3.66713837,  204.04764028, -138.53002999,   39.42735989,\n",
       "       -159.28824601,   30.47557648,   50.18048726,  139.75247156,\n",
       "       -163.94260547,   93.02353565,   82.62613748,  228.93255072,\n",
       "         -9.95810303,   87.65612627,  -33.0154887 ,   12.51215141,\n",
       "       -184.51543493,   92.57046991,    5.69356574,  119.49978824,\n",
       "         80.39982401, -172.14105175,  -65.8316187 ,   97.69573672,\n",
       "         -6.31015012,  289.78891675,   76.59418184, -144.24028764])"
      ]
     },
     "execution_count": 22,
     "metadata": {},
     "output_type": "execute_result"
    }
   ],
   "source": [
    "pred"
   ]
  }
 ],
 "metadata": {
  "kernelspec": {
   "display_name": "Python 3",
   "language": "python",
   "name": "python3"
  },
  "language_info": {
   "codemirror_mode": {
    "name": "ipython",
    "version": 3
   },
   "file_extension": ".py",
   "mimetype": "text/x-python",
   "name": "python",
   "nbconvert_exporter": "python",
   "pygments_lexer": "ipython3",
   "version": "3.8.10"
  }
 },
 "nbformat": 4,
 "nbformat_minor": 5
}
